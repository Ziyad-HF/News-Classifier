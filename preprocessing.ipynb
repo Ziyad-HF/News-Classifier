{
 "cells": [
  {
   "cell_type": "markdown",
   "metadata": {},
   "source": [
    "# This notebook for preprocessing the data and explore it"
   ]
  },
  {
   "cell_type": "markdown",
   "metadata": {},
   "source": [
    "## 1. Importing the necessary libraries"
   ]
  },
  {
   "cell_type": "code",
   "execution_count": 1,
   "metadata": {},
   "outputs": [],
   "source": [
    "import pandas as pd\n",
    "import numpy as np\n",
    "import matplotlib.pyplot as plt\n",
    "import seaborn as sns"
   ]
  },
  {
   "cell_type": "markdown",
   "metadata": {},
   "source": [
    "## 2. Loading the data"
   ]
  },
  {
   "cell_type": "code",
   "execution_count": 2,
   "metadata": {},
   "outputs": [],
   "source": [
    "df_train = pd.read_csv('data/train.csv')\n",
    "df_test = pd.read_csv('data/test.csv')"
   ]
  },
  {
   "cell_type": "markdown",
   "metadata": {},
   "source": [
    "## 3. Exploring the data"
   ]
  },
  {
   "cell_type": "code",
   "execution_count": 3,
   "metadata": {},
   "outputs": [
    {
     "data": {
      "text/html": [
       "<div>\n",
       "<style scoped>\n",
       "    .dataframe tbody tr th:only-of-type {\n",
       "        vertical-align: middle;\n",
       "    }\n",
       "\n",
       "    .dataframe tbody tr th {\n",
       "        vertical-align: top;\n",
       "    }\n",
       "\n",
       "    .dataframe thead th {\n",
       "        text-align: right;\n",
       "    }\n",
       "</style>\n",
       "<table border=\"1\" class=\"dataframe\">\n",
       "  <thead>\n",
       "    <tr style=\"text-align: right;\">\n",
       "      <th></th>\n",
       "      <th>ID</th>\n",
       "      <th>title</th>\n",
       "      <th>text</th>\n",
       "      <th>subject</th>\n",
       "      <th>date</th>\n",
       "      <th>class</th>\n",
       "    </tr>\n",
       "  </thead>\n",
       "  <tbody>\n",
       "    <tr>\n",
       "      <th>0</th>\n",
       "      <td>0.0</td>\n",
       "      <td>#AfterTrumpImplodes Hashtag Hilariously Imagi...</td>\n",
       "      <td>What will the world be like post-Donald Trump?...</td>\n",
       "      <td>News</td>\n",
       "      <td>5-Aug-16</td>\n",
       "      <td>0.0</td>\n",
       "    </tr>\n",
       "    <tr>\n",
       "      <th>1</th>\n",
       "      <td>1.0</td>\n",
       "      <td>#BlackLivesMatter Leader To Run For Mayor Of ...</td>\n",
       "      <td>The police shooting of black teen Michael Brow...</td>\n",
       "      <td>News</td>\n",
       "      <td>4-Feb-16</td>\n",
       "      <td>0.0</td>\n",
       "    </tr>\n",
       "    <tr>\n",
       "      <th>2</th>\n",
       "      <td>2.0</td>\n",
       "      <td>#BringBackObama Hashtag Blows Up On Twitter A...</td>\n",
       "      <td>The six months since President Donald Trump wa...</td>\n",
       "      <td>News</td>\n",
       "      <td>13-Jul-17</td>\n",
       "      <td>0.0</td>\n",
       "    </tr>\n",
       "    <tr>\n",
       "      <th>3</th>\n",
       "      <td>3.0</td>\n",
       "      <td>#FreeChrisChristie: Twitter Reacts To The ‘Ho...</td>\n",
       "      <td>Last Friday, New Jersey Governor Chris Christi...</td>\n",
       "      <td>News</td>\n",
       "      <td>2-Mar-16</td>\n",
       "      <td>0.0</td>\n",
       "    </tr>\n",
       "    <tr>\n",
       "      <th>4</th>\n",
       "      <td>4.0</td>\n",
       "      <td>#MakeAmericaBrannigan: Futurama Voice Actor R...</td>\n",
       "      <td>The incredibly talented voice actor, Billy Wes...</td>\n",
       "      <td>News</td>\n",
       "      <td>13-Aug-16</td>\n",
       "      <td>0.0</td>\n",
       "    </tr>\n",
       "  </tbody>\n",
       "</table>\n",
       "</div>"
      ],
      "text/plain": [
       "    ID                                              title  \\\n",
       "0  0.0   #AfterTrumpImplodes Hashtag Hilariously Imagi...   \n",
       "1  1.0   #BlackLivesMatter Leader To Run For Mayor Of ...   \n",
       "2  2.0   #BringBackObama Hashtag Blows Up On Twitter A...   \n",
       "3  3.0   #FreeChrisChristie: Twitter Reacts To The ‘Ho...   \n",
       "4  4.0   #MakeAmericaBrannigan: Futurama Voice Actor R...   \n",
       "\n",
       "                                                text subject       date  class  \n",
       "0  What will the world be like post-Donald Trump?...    News   5-Aug-16    0.0  \n",
       "1  The police shooting of black teen Michael Brow...    News   4-Feb-16    0.0  \n",
       "2  The six months since President Donald Trump wa...    News  13-Jul-17    0.0  \n",
       "3  Last Friday, New Jersey Governor Chris Christi...    News   2-Mar-16    0.0  \n",
       "4  The incredibly talented voice actor, Billy Wes...    News  13-Aug-16    0.0  "
      ]
     },
     "execution_count": 3,
     "metadata": {},
     "output_type": "execute_result"
    }
   ],
   "source": [
    "df_train.head()"
   ]
  },
  {
   "cell_type": "code",
   "execution_count": 4,
   "metadata": {},
   "outputs": [
    {
     "data": {
      "text/html": [
       "<div>\n",
       "<style scoped>\n",
       "    .dataframe tbody tr th:only-of-type {\n",
       "        vertical-align: middle;\n",
       "    }\n",
       "\n",
       "    .dataframe tbody tr th {\n",
       "        vertical-align: top;\n",
       "    }\n",
       "\n",
       "    .dataframe thead th {\n",
       "        text-align: right;\n",
       "    }\n",
       "</style>\n",
       "<table border=\"1\" class=\"dataframe\">\n",
       "  <thead>\n",
       "    <tr style=\"text-align: right;\">\n",
       "      <th></th>\n",
       "      <th>ID</th>\n",
       "      <th>class</th>\n",
       "    </tr>\n",
       "  </thead>\n",
       "  <tbody>\n",
       "    <tr>\n",
       "      <th>count</th>\n",
       "      <td>40406.000000</td>\n",
       "      <td>40414.000000</td>\n",
       "    </tr>\n",
       "    <tr>\n",
       "      <th>mean</th>\n",
       "      <td>20202.500000</td>\n",
       "      <td>0.473672</td>\n",
       "    </tr>\n",
       "    <tr>\n",
       "      <th>std</th>\n",
       "      <td>11664.351825</td>\n",
       "      <td>0.499313</td>\n",
       "    </tr>\n",
       "    <tr>\n",
       "      <th>min</th>\n",
       "      <td>0.000000</td>\n",
       "      <td>0.000000</td>\n",
       "    </tr>\n",
       "    <tr>\n",
       "      <th>25%</th>\n",
       "      <td>10101.250000</td>\n",
       "      <td>0.000000</td>\n",
       "    </tr>\n",
       "    <tr>\n",
       "      <th>50%</th>\n",
       "      <td>20202.500000</td>\n",
       "      <td>0.000000</td>\n",
       "    </tr>\n",
       "    <tr>\n",
       "      <th>75%</th>\n",
       "      <td>30303.750000</td>\n",
       "      <td>1.000000</td>\n",
       "    </tr>\n",
       "    <tr>\n",
       "      <th>max</th>\n",
       "      <td>40405.000000</td>\n",
       "      <td>1.000000</td>\n",
       "    </tr>\n",
       "  </tbody>\n",
       "</table>\n",
       "</div>"
      ],
      "text/plain": [
       "                 ID         class\n",
       "count  40406.000000  40414.000000\n",
       "mean   20202.500000      0.473672\n",
       "std    11664.351825      0.499313\n",
       "min        0.000000      0.000000\n",
       "25%    10101.250000      0.000000\n",
       "50%    20202.500000      0.000000\n",
       "75%    30303.750000      1.000000\n",
       "max    40405.000000      1.000000"
      ]
     },
     "execution_count": 4,
     "metadata": {},
     "output_type": "execute_result"
    }
   ],
   "source": [
    "df_train.describe()"
   ]
  },
  {
   "cell_type": "code",
   "execution_count": 5,
   "metadata": {},
   "outputs": [
    {
     "name": "stdout",
     "output_type": "stream",
     "text": [
      "<class 'pandas.core.frame.DataFrame'>\n",
      "RangeIndex: 44919 entries, 0 to 44918\n",
      "Data columns (total 6 columns):\n",
      " #   Column   Non-Null Count  Dtype  \n",
      "---  ------   --------------  -----  \n",
      " 0   ID       40406 non-null  float64\n",
      " 1   title    40427 non-null  object \n",
      " 2   text     40427 non-null  object \n",
      " 3   subject  40414 non-null  object \n",
      " 4   date     40414 non-null  object \n",
      " 5   class    40414 non-null  float64\n",
      "dtypes: float64(2), object(4)\n",
      "memory usage: 2.1+ MB\n"
     ]
    }
   ],
   "source": [
    "df_train.info()"
   ]
  },
  {
   "cell_type": "markdown",
   "metadata": {},
   "source": [
    "## 4. Preprocessing the data"
   ]
  },
  {
   "cell_type": "markdown",
   "metadata": {},
   "source": [
    "### 4.1. Handling duplicates"
   ]
  },
  {
   "cell_type": "code",
   "execution_count": 6,
   "metadata": {},
   "outputs": [
    {
     "name": "stdout",
     "output_type": "stream",
     "text": [
      "       ID title text subject date  class\n",
      "40428 NaN   NaN  NaN     NaN  NaN    NaN\n",
      "40429 NaN   NaN  NaN     NaN  NaN    NaN\n",
      "40430 NaN   NaN  NaN     NaN  NaN    NaN\n",
      "40431 NaN   NaN  NaN     NaN  NaN    NaN\n",
      "40432 NaN   NaN  NaN     NaN  NaN    NaN\n",
      "...    ..   ...  ...     ...  ...    ...\n",
      "44914 NaN   NaN  NaN     NaN  NaN    NaN\n",
      "44915 NaN   NaN  NaN     NaN  NaN    NaN\n",
      "44916 NaN   NaN  NaN     NaN  NaN    NaN\n",
      "44917 NaN   NaN  NaN     NaN  NaN    NaN\n",
      "44918 NaN   NaN  NaN     NaN  NaN    NaN\n",
      "\n",
      "[4491 rows x 6 columns]\n"
     ]
    }
   ],
   "source": [
    "# Check for duplicates\n",
    "duplicated_rows = df_train[df_train.duplicated()]\n",
    "print(duplicated_rows)"
   ]
  },
  {
   "cell_type": "code",
   "execution_count": 7,
   "metadata": {},
   "outputs": [],
   "source": [
    "# drop duplicates\n",
    "df_train = df_train.drop_duplicates()"
   ]
  },
  {
   "cell_type": "markdown",
   "metadata": {},
   "source": [
    "### 4.2. Handling missing values"
   ]
  },
  {
   "cell_type": "code",
   "execution_count": 8,
   "metadata": {},
   "outputs": [
    {
     "data": {
      "text/plain": [
       "ID         22\n",
       "title       1\n",
       "text        1\n",
       "subject    14\n",
       "date       14\n",
       "class      14\n",
       "dtype: int64"
      ]
     },
     "execution_count": 8,
     "metadata": {},
     "output_type": "execute_result"
    }
   ],
   "source": [
    "df_train.isnull().sum()"
   ]
  },
  {
   "cell_type": "markdown",
   "metadata": {},
   "source": [
    "#### 4.2.1. All the row with missing values"
   ]
  },
  {
   "cell_type": "code",
   "execution_count": 9,
   "metadata": {},
   "outputs": [
    {
     "name": "stdout",
     "output_type": "stream",
     "text": [
      "ID         21\n",
      "title       0\n",
      "text        0\n",
      "subject    13\n",
      "date       13\n",
      "class      13\n",
      "dtype: int64\n"
     ]
    }
   ],
   "source": [
    "# If the a row is missing all the columns, we can drop it\n",
    "df_train = df_train.dropna(how='all')\n",
    "print(df_train.isnull().sum())"
   ]
  },
  {
   "cell_type": "markdown",
   "metadata": {},
   "source": [
    "#### 4.2.2. class"
   ]
  },
  {
   "cell_type": "code",
   "execution_count": 10,
   "metadata": {},
   "outputs": [
    {
     "name": "stdout",
     "output_type": "stream",
     "text": [
      "ID         21\n",
      "title       0\n",
      "text        0\n",
      "subject     0\n",
      "date        0\n",
      "class       0\n",
      "dtype: int64\n"
     ]
    }
   ],
   "source": [
    "# drop rows with missing values in the target column\n",
    "df_train = df_train.dropna(subset=['class'])\n",
    "print(df_train.isnull().sum())"
   ]
  },
  {
   "cell_type": "markdown",
   "metadata": {},
   "source": [
    "#### 4.2.3. ID"
   ]
  },
  {
   "cell_type": "code",
   "execution_count": 11,
   "metadata": {},
   "outputs": [
    {
     "name": "stdout",
     "output_type": "stream",
     "text": [
      "ID         0\n",
      "title      0\n",
      "text       0\n",
      "subject    0\n",
      "date       0\n",
      "class      0\n",
      "dtype: int64\n"
     ]
    }
   ],
   "source": [
    "# filling the ID column with the value of the index\n",
    "df_train['ID'] = df_train.index\n",
    "print(df_train.isnull().sum())"
   ]
  },
  {
   "cell_type": "markdown",
   "metadata": {},
   "source": [
    "### 4.3 Handling date data"
   ]
  },
  {
   "cell_type": "code",
   "execution_count": 16,
   "metadata": {},
   "outputs": [],
   "source": [
    "# Date will not be useful for the model, so we can drop it as the date of the new won't determine if the new is fake or not\n",
    "df_train = df_train.drop(columns=['date'])\n",
    "df_test = df_test.drop(columns=['date'])"
   ]
  },
  {
   "cell_type": "markdown",
   "metadata": {},
   "source": [
    "### 4.4. Saving the preprocessed data"
   ]
  },
  {
   "cell_type": "code",
   "execution_count": 17,
   "metadata": {},
   "outputs": [],
   "source": [
    "# save the cleaned data\n",
    "df_train.to_csv('preprocessed_data/train_cleaned.csv', index=False)\n",
    "df_test.to_csv('preprocessed_data/test_cleaned.csv', index=False)"
   ]
  }
 ],
 "metadata": {
  "kernelspec": {
   "display_name": "Python 3",
   "language": "python",
   "name": "python3"
  },
  "language_info": {
   "codemirror_mode": {
    "name": "ipython",
    "version": 3
   },
   "file_extension": ".py",
   "mimetype": "text/x-python",
   "name": "python",
   "nbconvert_exporter": "python",
   "pygments_lexer": "ipython3",
   "version": "3.11.4"
  }
 },
 "nbformat": 4,
 "nbformat_minor": 2
}
